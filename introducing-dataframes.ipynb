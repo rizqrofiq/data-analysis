{
 "cells": [
  {
   "cell_type": "markdown",
   "metadata": {},
   "source": [
    "## Pandas was built on top of the NumPy library\n",
    "\n",
    "Pandas is a Python library that is built on top of the NumPy library. It provides easy-to-use data structures and data analysis tools for handling tabular data. Pandas is particularly useful for working with large datasets, as it allows for efficient data manipulation and analysis.\n"
   ]
  },
  {
   "cell_type": "code",
   "execution_count": 1,
   "metadata": {},
   "outputs": [],
   "source": [
    "import pandas as pd\n",
    "import numpy as np"
   ]
  },
  {
   "cell_type": "markdown",
   "metadata": {},
   "source": [
    "## Pandas is design to work with tabular data\n",
    "\n",
    "Pandas is designed to work with tabular data, such as data stored in a spreadsheet or database. Pandas can load data from a variety of formats, including CSV files, Excel spreadsheets, and SQL tables. Pandas can also work with data that is not tabular, such as time series data. \n",
    "\n",
    "Tabular data is any data that can be represented as rows and columns."
   ]
  },
  {
   "cell_type": "markdown",
   "metadata": {},
   "source": [
    "## Pandas DataFrame\n",
    "\n",
    "In Pandas, tabular data or rectangular data is represented as DataFrame object.\n",
    "\n",
    "Let's import the csv file into a Pandas DataFrame object:"
   ]
  },
  {
   "cell_type": "code",
   "execution_count": 4,
   "metadata": {},
   "outputs": [],
   "source": [
    "df = pd.read_csv(\"./datasets/data-penumpang-bus-transjakarta-november-2021.csv\", delimiter=\",\")"
   ]
  },
  {
   "cell_type": "markdown",
   "metadata": {},
   "source": [
    "#### ```.head()``` method\n",
    "\n",
    "The ```.head()``` method displays the first five rows of the DataFrame by default.\n",
    "This become very handy when you have a large dataset and you want to have a quick look at the data."
   ]
  },
  {
   "cell_type": "code",
   "execution_count": 5,
   "metadata": {},
   "outputs": [
    {
     "data": {
      "text/html": [
       "<div>\n",
       "<style scoped>\n",
       "    .dataframe tbody tr th:only-of-type {\n",
       "        vertical-align: middle;\n",
       "    }\n",
       "\n",
       "    .dataframe tbody tr th {\n",
       "        vertical-align: top;\n",
       "    }\n",
       "\n",
       "    .dataframe thead th {\n",
       "        text-align: right;\n",
       "    }\n",
       "</style>\n",
       "<table border=\"1\" class=\"dataframe\">\n",
       "  <thead>\n",
       "    <tr style=\"text-align: right;\">\n",
       "      <th></th>\n",
       "      <th>tahun</th>\n",
       "      <th>bulan</th>\n",
       "      <th>jenis</th>\n",
       "      <th>kode_trayek</th>\n",
       "      <th>trayek</th>\n",
       "      <th>jumlah_penumpang</th>\n",
       "    </tr>\n",
       "  </thead>\n",
       "  <tbody>\n",
       "    <tr>\n",
       "      <th>0</th>\n",
       "      <td>2021</td>\n",
       "      <td>11</td>\n",
       "      <td>Mikrotrans</td>\n",
       "      <td>JAK.88</td>\n",
       "      <td>Terminal Tanjung Priok - Ancol Barat</td>\n",
       "      <td>40135</td>\n",
       "    </tr>\n",
       "    <tr>\n",
       "      <th>1</th>\n",
       "      <td>2021</td>\n",
       "      <td>11</td>\n",
       "      <td>Mikrotrans</td>\n",
       "      <td>JAK.85</td>\n",
       "      <td>Bintara - Cipinang Indah</td>\n",
       "      <td>38487</td>\n",
       "    </tr>\n",
       "    <tr>\n",
       "      <th>2</th>\n",
       "      <td>2021</td>\n",
       "      <td>11</td>\n",
       "      <td>Mikrotrans</td>\n",
       "      <td>JAK.84</td>\n",
       "      <td>Terminal Kampung Melayu - Kapin Raya</td>\n",
       "      <td>49142</td>\n",
       "    </tr>\n",
       "    <tr>\n",
       "      <th>3</th>\n",
       "      <td>2021</td>\n",
       "      <td>11</td>\n",
       "      <td>Mikrotrans</td>\n",
       "      <td>JAK.80</td>\n",
       "      <td>Rawa Buaya - Rawa Kompeni</td>\n",
       "      <td>66701</td>\n",
       "    </tr>\n",
       "    <tr>\n",
       "      <th>4</th>\n",
       "      <td>2021</td>\n",
       "      <td>11</td>\n",
       "      <td>Mikrotrans</td>\n",
       "      <td>JA.77</td>\n",
       "      <td>Tanjung Priok - Jembatan Item</td>\n",
       "      <td>75248</td>\n",
       "    </tr>\n",
       "  </tbody>\n",
       "</table>\n",
       "</div>"
      ],
      "text/plain": [
       "   tahun  bulan       jenis kode_trayek                                trayek  \\\n",
       "0   2021     11  Mikrotrans      JAK.88  Terminal Tanjung Priok - Ancol Barat   \n",
       "1   2021     11  Mikrotrans      JAK.85              Bintara - Cipinang Indah   \n",
       "2   2021     11  Mikrotrans      JAK.84  Terminal Kampung Melayu - Kapin Raya   \n",
       "3   2021     11  Mikrotrans      JAK.80             Rawa Buaya - Rawa Kompeni   \n",
       "4   2021     11  Mikrotrans       JA.77         Tanjung Priok - Jembatan Item   \n",
       "\n",
       "   jumlah_penumpang  \n",
       "0             40135  \n",
       "1             38487  \n",
       "2             49142  \n",
       "3             66701  \n",
       "4             75248  "
      ]
     },
     "execution_count": 5,
     "metadata": {},
     "output_type": "execute_result"
    }
   ],
   "source": [
    "df.head()"
   ]
  },
  {
   "cell_type": "markdown",
   "metadata": {},
   "source": [
    "#### ```.info()``` method\n",
    "\n",
    "The ```.info()``` method displays the information about the DataFrame, including the number of rows and columns, the total memory usage, the data type of each column, and the number of non-null values."
   ]
  },
  {
   "cell_type": "code",
   "execution_count": 6,
   "metadata": {},
   "outputs": [
    {
     "name": "stdout",
     "output_type": "stream",
     "text": [
      "<class 'pandas.core.frame.DataFrame'>\n",
      "RangeIndex: 129 entries, 0 to 128\n",
      "Data columns (total 6 columns):\n",
      " #   Column            Non-Null Count  Dtype \n",
      "---  ------            --------------  ----- \n",
      " 0   tahun             129 non-null    int64 \n",
      " 1   bulan             129 non-null    int64 \n",
      " 2   jenis             129 non-null    object\n",
      " 3   kode_trayek       129 non-null    object\n",
      " 4   trayek            129 non-null    object\n",
      " 5   jumlah_penumpang  129 non-null    int64 \n",
      "dtypes: int64(3), object(3)\n",
      "memory usage: 6.2+ KB\n"
     ]
    }
   ],
   "source": [
    "df.info()"
   ]
  },
  {
   "cell_type": "markdown",
   "metadata": {},
   "source": [
    "### ```.describe()``` method\n",
    "\n",
    "The ```.describe()``` method displays the summary statistics of the DataFrame, including the count, mean, standard deviation, minimum, maximum, and the percentiles."
   ]
  },
  {
   "cell_type": "code",
   "execution_count": 12,
   "metadata": {},
   "outputs": [
    {
     "data": {
      "text/html": [
       "<div>\n",
       "<style scoped>\n",
       "    .dataframe tbody tr th:only-of-type {\n",
       "        vertical-align: middle;\n",
       "    }\n",
       "\n",
       "    .dataframe tbody tr th {\n",
       "        vertical-align: top;\n",
       "    }\n",
       "\n",
       "    .dataframe thead th {\n",
       "        text-align: right;\n",
       "    }\n",
       "</style>\n",
       "<table border=\"1\" class=\"dataframe\">\n",
       "  <thead>\n",
       "    <tr style=\"text-align: right;\">\n",
       "      <th></th>\n",
       "      <th>tahun</th>\n",
       "      <th>bulan</th>\n",
       "      <th>jumlah_penumpang</th>\n",
       "    </tr>\n",
       "  </thead>\n",
       "  <tbody>\n",
       "    <tr>\n",
       "      <th>count</th>\n",
       "      <td>129.0</td>\n",
       "      <td>129.0</td>\n",
       "      <td>1.290000e+02</td>\n",
       "    </tr>\n",
       "    <tr>\n",
       "      <th>mean</th>\n",
       "      <td>2021.0</td>\n",
       "      <td>11.0</td>\n",
       "      <td>9.626701e+04</td>\n",
       "    </tr>\n",
       "    <tr>\n",
       "      <th>std</th>\n",
       "      <td>0.0</td>\n",
       "      <td>0.0</td>\n",
       "      <td>1.482235e+05</td>\n",
       "    </tr>\n",
       "    <tr>\n",
       "      <th>min</th>\n",
       "      <td>2021.0</td>\n",
       "      <td>11.0</td>\n",
       "      <td>0.000000e+00</td>\n",
       "    </tr>\n",
       "    <tr>\n",
       "      <th>25%</th>\n",
       "      <td>2021.0</td>\n",
       "      <td>11.0</td>\n",
       "      <td>3.070300e+04</td>\n",
       "    </tr>\n",
       "    <tr>\n",
       "      <th>50%</th>\n",
       "      <td>2021.0</td>\n",
       "      <td>11.0</td>\n",
       "      <td>5.968500e+04</td>\n",
       "    </tr>\n",
       "    <tr>\n",
       "      <th>75%</th>\n",
       "      <td>2021.0</td>\n",
       "      <td>11.0</td>\n",
       "      <td>8.721000e+04</td>\n",
       "    </tr>\n",
       "    <tr>\n",
       "      <th>max</th>\n",
       "      <td>2021.0</td>\n",
       "      <td>11.0</td>\n",
       "      <td>1.073929e+06</td>\n",
       "    </tr>\n",
       "  </tbody>\n",
       "</table>\n",
       "</div>"
      ],
      "text/plain": [
       "        tahun  bulan  jumlah_penumpang\n",
       "count   129.0  129.0      1.290000e+02\n",
       "mean   2021.0   11.0      9.626701e+04\n",
       "std       0.0    0.0      1.482235e+05\n",
       "min    2021.0   11.0      0.000000e+00\n",
       "25%    2021.0   11.0      3.070300e+04\n",
       "50%    2021.0   11.0      5.968500e+04\n",
       "75%    2021.0   11.0      8.721000e+04\n",
       "max    2021.0   11.0      1.073929e+06"
      ]
     },
     "execution_count": 12,
     "metadata": {},
     "output_type": "execute_result"
    }
   ],
   "source": [
    "df.describe()\n",
    "\n",
    "# count is the number of non-missing values in each DataFrame column"
   ]
  },
  {
   "cell_type": "markdown",
   "metadata": {},
   "source": [
    "#### ```.shape``` attribute\n",
    "\n",
    "The ```.shape``` attribute displays the number of rows and columns of the DataFrame."
   ]
  },
  {
   "cell_type": "code",
   "execution_count": 9,
   "metadata": {},
   "outputs": [
    {
     "data": {
      "text/plain": [
       "(129, 6)"
      ]
     },
     "execution_count": 9,
     "metadata": {},
     "output_type": "execute_result"
    }
   ],
   "source": [
    "df.shape # tuple(rows, columns)"
   ]
  },
  {
   "cell_type": "markdown",
   "metadata": {},
   "source": [
    "## DataFrame Components\n",
    "\n",
    "DataFrame consist of three different components, each accessible using different attributes:"
   ]
  },
  {
   "cell_type": "markdown",
   "metadata": {},
   "source": [
    "### ```.values``` attribute\n",
    "\n",
    "The ```.values``` attribute returns a two-dimensional NumPy array of values. "
   ]
  },
  {
   "cell_type": "code",
   "execution_count": 13,
   "metadata": {},
   "outputs": [
    {
     "data": {
      "text/plain": [
       "array([[2021, 11, 'Mikrotrans', 'JAK.88',\n",
       "        'Terminal Tanjung Priok - Ancol Barat', 40135],\n",
       "       [2021, 11, 'Mikrotrans', 'JAK.85', 'Bintara - Cipinang Indah',\n",
       "        38487],\n",
       "       [2021, 11, 'Mikrotrans', 'JAK.84',\n",
       "        'Terminal Kampung Melayu - Kapin Raya', 49142],\n",
       "       [2021, 11, 'Mikrotrans', 'JAK.80', 'Rawa Buaya - Rawa Kompeni',\n",
       "        66701],\n",
       "       [2021, 11, 'Mikrotrans', 'JA.77', 'Tanjung Priok - Jembatan Item',\n",
       "        75248],\n",
       "       [2021, 11, 'Mikrotrans', 'JAK.75', 'Cililitan - Kp. Pulo', 56825],\n",
       "       [2021, 11, 'Mikrotrans', 'JAK.74',\n",
       "        'Terminal Rawamangun - Cipinang Muara', 55667],\n",
       "       [2021, 11, 'Mikrotrans', 'JAK.73', 'Jambore Cibubur - Pasar Rebo',\n",
       "        84918],\n",
       "       [2021, 11, 'Mikrotrans', 'JAK.72',\n",
       "        'Kampung Rambutan - Pasar Rebo via Poncol', 100864],\n",
       "       [2021, 11, 'Mikrotrans', 'JAK.71',\n",
       "        'Kampung Rambutan - Pinang Ranti', 65152],\n",
       "       [2021, 11, 'Mikrotrans', 'JAK.64', 'Lenteng Agung - Aseli', 61617],\n",
       "       [2021, 11, 'Mikrotrans', 'JAK.61',\n",
       "        'Cempaka Putih - Pulo Gadung via Kelapa Gading', 43632],\n",
       "       [2021, 11, 'Mikrotrans', 'JAK.60',\n",
       "        'Kelapa Gading - Rusun Kemayoran', 79618],\n",
       "       [2021, 11, 'Mikrotrans', 'JAK.59', 'Rawamangun - Tanah Merah',\n",
       "        84370],\n",
       "       [2021, 11, 'Mikrotrans', 'JAK.58', 'Cilingcing - Rorotan', 110584],\n",
       "       [2021, 11, 'Mikrotrans', 'JAK.56', 'Grogol - Srengseng', 55986],\n",
       "       [2021, 11, 'Mikrotrans', 'JAK.54', 'Grogol - Benhil', 52566],\n",
       "       [2021, 11, 'Mikrotrans', 'JAK.53',\n",
       "        'Grogol - Pos Pengumben via Slipi', 61754],\n",
       "       [2021, 11, 'Mikrotrans', 'JAK.52', 'Kalideres - Muara Angke',\n",
       "        79531],\n",
       "       [2021, 11, 'Mikrotrans', 'JAK.51', 'Taman Kota - Budi Luhur',\n",
       "        122865],\n",
       "       [2021, 11, 'Mikrotrans', 'JAK.50', 'Kalideres - Puri Kembangan',\n",
       "        77204],\n",
       "       [2021, 11, 'Mikrotrans', 'JAK.49', 'Lebak Bulus - Cipulir', 50611],\n",
       "       [2021, 11, 'Mikrotrans', 'JAK.47',\n",
       "        'Pasar Minggu - Ciganjur via KB Ragunan', 63835],\n",
       "       [2021, 11, 'Mikrotrans', 'JAK.46', 'Pasar Minggu - Jagakarsa',\n",
       "        106263],\n",
       "       [2021, 11, 'Mikrotrans', 'JAK.45', 'Lebak Bulus - Ragunan', 55555],\n",
       "       [2021, 11, 'Mikrotrans', 'JAK.44',\n",
       "        'Andara - Stasiun Universitas Pancasila', 75946],\n",
       "       [2021, 11, 'Mikrotrans', 'JAK.43', 'Tongtek - Cililitan', 104411],\n",
       "       [2021, 11, 'Mikrotrans', 'JAK.42',\n",
       "        'Kampung Melayu - Pondok Kelapa', 84595],\n",
       "       [2021, 11, 'Mikrotrans', 'JAK.41',\n",
       "        'Kampung Melayu - Ppulo Gadung', 52250],\n",
       "       [2021, 11, 'Mikrotrans', 'JAK.40',\n",
       "        'Harapan Baru - Pulo Gebang via Rawa Kuning', 47573],\n",
       "       [2021, 11, 'Mikrotrans', 'JAK.39', 'Kalimalang - Duren Sawit',\n",
       "        70372],\n",
       "       [2021, 11, 'Mikrotrans', 'JAK.38',\n",
       "        'Bulak Ringin - Kampung Rambutan', 52938],\n",
       "       [2021, 11, 'Mikrotrans', 'JAK.37',\n",
       "        'Cililitan - Condet via Kayu Manis', 69292],\n",
       "       [2021, 11, 'Mikrotrans', 'JAK.36', 'Cilangkap - Cililitan', 80759],\n",
       "       [2021, 11, 'Mikrotrans', 'JAK.35', 'Pangkalan  Jati - Rawamangun',\n",
       "        34484],\n",
       "       [2021, 11, 'Mikrotrans', 'JAK.34', 'Rawamangun - Klender', 71939],\n",
       "       [2021, 11, 'Mikrotrans', 'JAK.33', 'Pulo Gadung - Kota', 64400],\n",
       "       [2021, 11, 'Mikrotrans', 'JAK.32', 'Lebak Bulus - Petukangan',\n",
       "        90627],\n",
       "       [2021, 11, 'Mikrotrans', 'JAK.31', 'Blok M - Andara', 73900],\n",
       "       [2021, 11, 'Mikrotrans', 'JAK.30', 'Grogol - Meruya via Roxy',\n",
       "        160715],\n",
       "       [2021, 11, 'Mikrotrans', 'JAK.29', 'Tanjung Priok - Sukapura',\n",
       "        137509],\n",
       "       [2021, 11, 'Mikrotrans', 'JAK.28',\n",
       "        'Kp. Rambutan - Taman Wiladatika', 75895],\n",
       "       [2021, 11, 'Mikrotrans', 'JAK.27', 'Pulo Gebang - Rorotan', 59685],\n",
       "       [2021, 11, 'Mikrotrans', 'JAK.26', 'Rawamangun - Duren Sawit',\n",
       "        48931],\n",
       "       [2021, 11, 'Mikrotrans', 'JAK.25', 'Kp. Rambutan - Kalisari',\n",
       "        57999],\n",
       "       [2021, 11, 'Mikrotrans', 'JAK.24',\n",
       "        'Senen - Pulo Gadung via Kelapa Gading', 94793],\n",
       "       [2021, 11, 'Mikrotrans', 'JAK.22', 'Dwikora - Penas Kalimalang',\n",
       "        21124],\n",
       "       [2021, 11, 'Mikrotrans', 'JAK.21', 'Cililitan - Dwikora', 77867],\n",
       "       [2021, 11, 'Mikrotrans', 'JAK.20', 'Cawang UKI - Lubang Buaya',\n",
       "        63118],\n",
       "       [2021, 11, 'Mikrotrans', 'JAK,19',\n",
       "        'Pinang Ranti - Kampung Rambutan', 109711],\n",
       "       [2021, 11, 'Mikrotrans', 'JAK.18', 'Kalibata - Kuningan', 41370],\n",
       "       [2021, 11, 'Mikrotrans', 'JAK.17', 'Senen - Pulo Gadung ', 59969],\n",
       "       [2021, 11, 'Mikrotrans', 'JAK.16',\n",
       "        'Cililitan - Condet via Kayu Manis', 96991],\n",
       "       [2021, 11, 'Mikrotrans', 'JAK.15', 'Bulak Turi - Tanjung Priok',\n",
       "        146160],\n",
       "       [2021, 11, 'Mikrotrans', 'JAK.14', 'Tanah Abang - Meruya', 115672],\n",
       "       [2021, 11, 'Mikrotrans', 'JAK.13',\n",
       "        'Tanah Abang - Kota Intan via Jembatan Lima', 22307],\n",
       "       [2021, 11, 'Mikrotrans', 'JAK.12',\n",
       "        'Tanah Abang - Kebayoran Lama via Pos Pengumben', 80723],\n",
       "       [2021, 11, 'Mikrotrans', 'JAK.117',\n",
       "        'Tanjung Priok - Tanah Merdeka', 103410],\n",
       "       [2021, 11, 'Mikrotrans', 'JAK.112',\n",
       "        'Terminal Tanah Merah - Pulo Gadung', 78124],\n",
       "       [2021, 11, 'Mikrotrans', 'JAK.11',\n",
       "        'Tanah Abang - Kebayoran Lama ', 88319],\n",
       "       [2021, 11, 'Mikrotrans', 'JAK.10B',\n",
       "        'Gondangdia - Cikini via Kramat Raya', 4008],\n",
       "       [2021, 11, 'Mikrotrans', 'JAK.10A',\n",
       "        'Gondangdia - Cikini via Salemba Raya', 30703],\n",
       "       [2021, 11, 'Mikrotrans', 'JAK.10', 'Tanah Abang - Kota ', 59213],\n",
       "       [2021, 11, 'Mikrotrans', 'JAK.09', 'Roxy Mas - Karet', 31253],\n",
       "       [2021, 11, 'Mikrotrans', 'JAK.08', 'Roxy - Benhil', 48046],\n",
       "       [2021, 11, 'Mikrotrans', 'JAK.07',\n",
       "        'Tanah Abang - Grogol via Tawakal', 66471],\n",
       "       [2021, 11, 'Mikrotrans', 'JAK.06',\n",
       "        'Kampung Rambutan - Pondok Gede', 73113],\n",
       "       [2021, 11, 'Mikrotrans', 'JAK.05', 'Semper - Rorotan', 73362],\n",
       "       [2021, 11, 'Mikrotrans', 'JAK.04', 'Grogol - Tubagus Angke',\n",
       "        55910],\n",
       "       [2021, 11, 'Mikrotrans', 'JAK.03', 'Lebak Bulus - Andara', 41216],\n",
       "       [2021, 11, 'Mikrotrans', 'JAK.02', 'Kampung Melayu - Duren Sawit',\n",
       "        56746],\n",
       "       [2021, 11, 'Mikrotrans', 'JAK.01', 'Tanjung Priok - Plumpang',\n",
       "        71927],\n",
       "       [2021, 11, 'BRT', '9', 'Pinang Ranti - Pluit', 805724],\n",
       "       [2021, 11, 'BRT', '8', 'Lebak Bulus - Harmoni', 512842],\n",
       "       [2021, 11, 'BRT', '7', 'Kampung Rambutan - Kampung Melayu',\n",
       "        420738],\n",
       "       [2021, 11, 'BRT', '6', 'Ragunan - Dukuh Atas 2', 435539],\n",
       "       [2021, 11, 'BRT', '5', 'Kampung Melayu - Ancol', 487576],\n",
       "       [2021, 11, 'BRT', '4', 'Pulo Gadung 2 - Tosari', 321515],\n",
       "       [2021, 11, 'BRT', '3', 'Kalideres - Pasar Baru', 527539],\n",
       "       [2021, 11, 'BRT', '2', 'Pulo Gadung 1 - Harmoni', 374586],\n",
       "       [2021, 11, 'BRT', '13', 'Ciledug - Tendean', 305567],\n",
       "       [2021, 11, 'BRT', '12', 'Penjaringan - Sunter Bouleverd Barat',\n",
       "        163317],\n",
       "       [2021, 11, 'BRT', '11', 'Pulo Gebang - Kampung Melayu', 148930],\n",
       "       [2021, 11, 'BRT', '10', 'Tanjung Priok - PGC 2', 421487],\n",
       "       [2021, 11, 'BRT', '1', 'Blok M - Kota', 1073929],\n",
       "       [2021, 11, 'Angkutan Umum Integrasi', '9H', 'Cipedak - Blok M',\n",
       "        20159],\n",
       "       [2021, 11, 'Angkutan Umum Integrasi', '9E',\n",
       "        'Kebayoran Lama - Jelambar', 22996],\n",
       "       [2021, 11, 'Angkutan Umum Integrasi', '9D',\n",
       "        'Pasar Minggu - Tanah Abang', 87210],\n",
       "       [2021, 11, 'Angkutan Umum Integrasi', '8K',\n",
       "        'Batu Sari-Tanah Abang', 9463],\n",
       "       [2021, 11, 'Angkutan Umum Integrasi', '8E', 'Bintaro - Blok M',\n",
       "        19613],\n",
       "       [2021, 11, 'Angkutan Umum Integrasi', '8D', 'Joglo - Blok M',\n",
       "        27154],\n",
       "       [2021, 11, 'Angkutan Umum Integrasi', '8C',\n",
       "        'Kebayoran Lama - Tanah Abang', 0],\n",
       "       [2021, 11, 'Angkutan Umum Integrasi', '7P', 'Pondok Kelapa - BKN',\n",
       "        32337],\n",
       "       [2021, 11, 'Angkutan Umum Integrasi', '7D', 'Pancoran - TMII',\n",
       "        27221],\n",
       "       [2021, 11, 'Angkutan Umum Integrasi', '7B',\n",
       "        'Kampung Rambutan - Blok M', 87269],\n",
       "       [2021, 11, 'Angkutan Umum Integrasi', '7A',\n",
       "        'Kampung Rambutan - Lebak Bulus', 88324],\n",
       "       [2021, 11, 'Angkutan Umum Integrasi', '6R',\n",
       "        'Ragunan - Stasin MRT Fatmawati', 0],\n",
       "       [2021, 11, 'Angkutan Umum Integrasi', '6Q',\n",
       "        'Dukuh Atas - Casablanca via Epicentrum Raya', 608],\n",
       "       [2021, 11, 'Angkutan Umum Integrasi', '6N',\n",
       "        'Ragunan - Blok M via Kemang', 31447],\n",
       "       [2021, 11, 'Angkutan Umum Integrasi', '6M',\n",
       "        'Stasiun Manggarai - Blok  M', 24756],\n",
       "       [2021, 11, 'Angkutan Umum Integrasi', '6H', 'Senen - Lebak Bulus',\n",
       "        24583],\n",
       "       [2021, 11, 'Angkutan Umum Integrasi', '6C',\n",
       "        'Stasin Tebet - Karet via Patra Kuningan', 118725],\n",
       "       [2021, 11, 'Angkutan Umum Integrasi', '5M',\n",
       "        'Kampung Melayu - Tanah Abang via Cikini', 95933],\n",
       "       [2021, 11, 'Angkutan Umum Integrasi', '5F',\n",
       "        'Kampung Melayu - Tanah Abang', 18105],\n",
       "       [2021, 11, 'Angkutan Umum Integrasi', '5B',\n",
       "        'Stasiun Tebet - Bidara Cina', 8999],\n",
       "       [2021, 11, 'Angkutan Umum Integrasi', '4F',\n",
       "        'Pinang Ranti - Pulo Gadung', 43945],\n",
       "       [2021, 11, 'Angkutan Umum Integrasi', '4B',\n",
       "        'Stasiun Manggarai - UI', 46314],\n",
       "       [2021, 11, 'Angkutan Umum Integrasi', '3E',\n",
       "        'Sentraland Cengkareng - Puri Kembangan', 901],\n",
       "       [2021, 11, 'Angkutan Umum Integrasi', '3E ',\n",
       "        'Sentraland Cengkareng - Puri Kembangan', 27894],\n",
       "       [2021, 11, 'Angkutan Umum Integrasi', '2Q',\n",
       "        'Gondangdia - Balai Kota', 11567],\n",
       "       [2021, 11, 'Angkutan Umum Integrasi', '2P', 'Gondangdia - Senen',\n",
       "        4653],\n",
       "       [2021, 11, 'Angkutan Umum Integrasi', '1R', 'Senen - Tanah Abang',\n",
       "        8995],\n",
       "       [2021, 11, 'Angkutan Umum Integrasi', '1Q', 'Rempoa - Blok M',\n",
       "        29556],\n",
       "       [2021, 11, 'Angkutan Umum Integrasi', '1P',\n",
       "        'Senen - Bundaran Senayan', 13565],\n",
       "       [2021, 11, 'Angkutan Umum Integrasi', '1N',\n",
       "        'Tanah Abang - Blok M', 14060],\n",
       "       [2021, 11, 'Angkutan Umum Integrasi', '1M', 'Meruya - Blok M',\n",
       "        22326],\n",
       "       [2021, 11, 'Angkutan Umum Integrasi', '1H',\n",
       "        'Tanah Abang - Stasiun Gondangdia', 50329],\n",
       "       [2021, 11, 'Angkutan Umum Integrasi', '1F',\n",
       "        'Stasiun Palmerah - Bundaran Senayan', 0],\n",
       "       [2021, 11, 'Angkutan Umum Integrasi', '1E',\n",
       "        'Pondok  Labu - Blok M', 78905],\n",
       "       [2021, 11, 'Angkutan Umum Integrasi', '1C',\n",
       "        'Pesanggrahan - Blok M', 16241],\n",
       "       [2021, 11, 'Angkutan Umum Integrasi', '1B',\n",
       "        'Stasiun Palmerah - Tosari', 40391],\n",
       "       [2021, 11, 'Angkutan Umum Integrasi', '1A', 'PIK - Balai Kota',\n",
       "        82972],\n",
       "       [2021, 11, 'Angkutan Umum Integrasi', '12A',\n",
       "        'Pelabuhan Kaliadem - Kota', 1463],\n",
       "       [2021, 11, 'Angkutan Umum Integrasi', '12B', 'Pluit - Senen',\n",
       "        10187],\n",
       "       [2021, 11, 'Angkutan Umum Integrasi', '11Q',\n",
       "        'Kampung Melayu - Pulo Gebang via BKT', 11353],\n",
       "       [2021, 11, 'Angkutan Umum Integrasi', '11D',\n",
       "        'Pulo Gebang - Pulo Gadung 2 via PIK', 59155],\n",
       "       [2021, 11, 'Angkutan Umum Integrasi', '10K',\n",
       "        'Tanjung Priok - Senen via Taman  BMW', 34498],\n",
       "       [2021, 11, 'Angkutan Umum Integrasi', 'GR4',\n",
       "        'Taman Kota Intan - Museum Bahari', 4],\n",
       "       [2021, 11, 'Angkutan Umum Integrasi', 'GR5', 'Kota Tua Explorer',\n",
       "        3]], dtype=object)"
      ]
     },
     "execution_count": 13,
     "metadata": {},
     "output_type": "execute_result"
    }
   ],
   "source": [
    "df.values # numpy array"
   ]
  },
  {
   "cell_type": "markdown",
   "metadata": {},
   "source": [
    "### ```.columns``` & ```.index``` attribute\n",
    "\n",
    "The ```.columns``` attribute returns an index object that represents the column labels. The ```.columns``` attribute contains the column names of the DataFrame.\n",
    "\n",
    "The ```.index``` attribute contains row numbers or row names of the DataFrame."
   ]
  },
  {
   "cell_type": "code",
   "execution_count": 14,
   "metadata": {},
   "outputs": [
    {
     "data": {
      "text/plain": [
       "Index(['tahun', 'bulan', 'jenis', 'kode_trayek', 'trayek', 'jumlah_penumpang'], dtype='object')"
      ]
     },
     "execution_count": 14,
     "metadata": {},
     "output_type": "execute_result"
    }
   ],
   "source": [
    "df.columns"
   ]
  },
  {
   "cell_type": "code",
   "execution_count": 33,
   "metadata": {},
   "outputs": [
    {
     "data": {
      "text/plain": [
       "RangeIndex(start=0, stop=129, step=1)"
      ]
     },
     "execution_count": 33,
     "metadata": {},
     "output_type": "execute_result"
    }
   ],
   "source": [
    "df.index"
   ]
  }
 ],
 "metadata": {
  "kernelspec": {
   "display_name": ".venv",
   "language": "python",
   "name": "python3"
  },
  "language_info": {
   "codemirror_mode": {
    "name": "ipython",
    "version": 3
   },
   "file_extension": ".py",
   "mimetype": "text/x-python",
   "name": "python",
   "nbconvert_exporter": "python",
   "pygments_lexer": "ipython3",
   "version": "3.11.3"
  }
 },
 "nbformat": 4,
 "nbformat_minor": 2
}
